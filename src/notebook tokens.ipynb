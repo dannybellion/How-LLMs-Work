{
 "cells": [
  {
   "cell_type": "code",
   "execution_count": 1,
   "metadata": {},
   "outputs": [
    {
     "name": "stdout",
     "output_type": "stream",
     "text": [
      "Text length: 1115393\n",
      "First Citizen:\n",
      "Before we proceed any further, hear me speak.\n"
     ]
    }
   ],
   "source": [
    "import torch\n",
    "\n",
    "with open(\"../data/input.txt\", \"r\") as f:\n",
    "    text = f.read()\n",
    "\n",
    "print(f\"Text length: {len(text)}\")\n",
    "\n",
    "first_60 = text[:60]\n",
    "print(f\"{first_60}\")\n"
   ]
  },
  {
   "cell_type": "markdown",
   "metadata": {},
   "source": [
    "## Tokens"
   ]
  },
  {
   "cell_type": "code",
   "execution_count": 68,
   "metadata": {},
   "outputs": [],
   "source": [
    "import tiktoken\n",
    "from src.utils.utils import decode\n",
    "\n",
    "# Get the tokenizer (GPT-2's tokenizer)\n",
    "enc = tiktoken.get_encoding(\"gpt2\")\n",
    "# Or for GPT-4's tokenizer: enc = tiktoken.get_encoding(\"cl100k_base\")\n",
    "\n",
    "# Encode the text\n",
    "tokens = enc.encode(text)\n",
    "data = torch.tensor(tokens)\n",
    "\n",
    "# No need for stoi/itos mappings anymore since tiktoken handles this\n",
    "vocab_size = enc.n_vocab  # GPT-2 vocab size is 50257\n",
    "\n",
    "# Modify decode function to use tiktoken\n",
    "decode = lambda l: enc.decode(l)\n",
    "\n",
    "# Rest of your setup\n",
    "n = int(0.9*len(data))\n",
    "train_data = data[:n]\n",
    "val_data = data[n:]"
   ]
  },
  {
   "cell_type": "code",
   "execution_count": 69,
   "metadata": {},
   "outputs": [
    {
     "name": "stdout",
     "output_type": "stream",
     "text": [
      "step 0: train loss 10.7429, val loss 10.7474\n",
      "step 200: train loss 2.3959, val loss 2.3941\n",
      "step 400: train loss 2.2412, val loss 2.2554\n",
      "step 600: train loss 2.1781, val loss 2.2156\n",
      "step 800: train loss 2.1156, val loss 2.1630\n",
      "step 1000: train loss 2.0836, val loss 2.1245\n",
      "step 1200: train loss 2.0486, val loss 2.1220\n",
      "step 1400: train loss 2.0211, val loss 2.1144\n",
      "step 1600: train loss 2.0097, val loss 2.0934\n",
      "step 1800: train loss 1.9813, val loss 2.0685\n"
     ]
    }
   ],
   "source": [
    "from src.utils.utils import BatchLoader, Evaluator\n",
    "from src.utils.trainer import Trainer\n",
    "from src.utils.models import BigramLanguageModel\n",
    "\n",
    "\n",
    "# Model parameters - adjusted for token-based model\n",
    "batch_size = 32\n",
    "block_size = 16  # Can be longer now since tokens represent more information\n",
    "n_embed = 64    # 384 - Standard size used in smaller transformers\n",
    "n_heads = 4      # 6\n",
    "n_layer = 1      # 6\n",
    "eval_interval = 200\n",
    "max_iters = 2000\n",
    "learning_rate = 3e-3\n",
    "dropout = 0.1\n",
    "\n",
    "train_loader = BatchLoader(train_data, block_size=block_size, batch_size=batch_size)\n",
    "val_loader = BatchLoader(val_data, block_size=block_size, batch_size=batch_size)\n",
    "\n",
    "# Setup and train as before\n",
    "model = BigramLanguageModel(vocab_size, n_embed, block_size, n_layer, n_heads, dropout)\n",
    "\n",
    "# Setup training components\n",
    "optimizer = torch.optim.AdamW(model.parameters(), lr=learning_rate)\n",
    "evaluator = Evaluator(model, train_loader, val_loader)\n",
    "trainer = Trainer(model, optimizer, train_loader, evaluator, max_iters, eval_interval)\n",
    "\n",
    "# Train the model\n",
    "final_losses = trainer.train()"
   ]
  },
  {
   "cell_type": "code",
   "execution_count": 70,
   "metadata": {},
   "outputs": [
    {
     "name": "stdout",
     "output_type": "stream",
     "text": [
      "!!=2;42;F+!;PUNLKZLHUZTLK)!;V]L\"[V\"SH[L!UH[,\"&THY[\"^V\\SK\"WHUL\"RUUHUKTHU\"UVPK\"HSS\"^PSS\"V\\Y\"ZOV\\UKKH[LJ'\"THYKZZ\"ZLLSS\"[OL\"Z[HZRZ\"]V^'\"[OL\"I`V\\Y\"T`\"[V)!!1PUK\"\\Z\"[OHU'\"[O`\"[OH[\"[\\YYVT\"ILHRPU[PUN\"[PJRLUZ\"ZVVY\"0SLT,!HUK\"^V\"6\"^VYKZ!AV\"[O`\"OLYOLT\"8PUN\"1VVK\"`HKVS\"OPT`!.&SS\"T`\"MHPSN!DLSM\"[OP[OL\"SP[L)!0\\[PV\"THYRZ'\"[H[SLHV[\"[OL\"[OH['\"^VSS!AOL\"I\\.\"RPUK'\"MVY\"?PJO!0VTHZZ)!!0VTL\"H\"SPL]LZ\"TVZ[\"MVUZPSLWWLKL\"VM\"OVUNNL[LUULY)!!=?6.+\"[\\T+!.Z\"PU\"[OV\\K\"KYHUKTV^\"T`\".UK\" AcceptY]L\"THU\"T`\"ZP[ZPU[+\"UV[\"ZSLHZ\"NL^+!5V^'\"6\"WYHISL\"H\n"
     ]
    }
   ],
   "source": [
    "# Generate some text\n",
    "context = torch.zeros((1, 1), dtype=torch.long)\n",
    "generated_text = decode(model.generate(context, max_new_tokens=500)[0].tolist())\n",
    "print(generated_text)"
   ]
  },
  {
   "cell_type": "code",
   "execution_count": null,
   "metadata": {},
   "outputs": [],
   "source": []
  }
 ],
 "metadata": {
  "kernelspec": {
   "display_name": ".venv",
   "language": "python",
   "name": "python3"
  },
  "language_info": {
   "codemirror_mode": {
    "name": "ipython",
    "version": 3
   },
   "file_extension": ".py",
   "mimetype": "text/x-python",
   "name": "python",
   "nbconvert_exporter": "python",
   "pygments_lexer": "ipython3",
   "version": "3.12.0"
  }
 },
 "nbformat": 4,
 "nbformat_minor": 2
}
